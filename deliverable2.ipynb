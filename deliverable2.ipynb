{
 "cells": [
  {
   "cell_type": "code",
   "execution_count": 29,
   "id": "a4c8e086",
   "metadata": {},
   "outputs": [
    {
     "data": {
      "text/plain": [
       "(569, 31)"
      ]
     },
     "execution_count": 29,
     "metadata": {},
     "output_type": "execute_result"
    }
   ],
   "source": [
    "import numpy as np\n",
    "import pandas as pd\n",
    "from pandas import Series, DataFrame\n",
    "import matplotlib.pyplot as plt\n",
    "\n",
    "import sklearn\n",
    "from sklearn.datasets import load_breast_cancer\n",
    "x = load_breast_cancer(return_X_y = True, as_frame = True)\n",
    "a = DataFrame(x[0])\n",
    "a['class'] = DataFrame(x[1])\n",
    "a.shape"
   ]
  },
  {
   "cell_type": "code",
   "execution_count": 37,
   "id": "4328c027",
   "metadata": {},
   "outputs": [
    {
     "data": {
      "text/plain": [
       "(569, 31)"
      ]
     },
     "execution_count": 37,
     "metadata": {},
     "output_type": "execute_result"
    }
   ],
   "source": [
    "a.shape"
   ]
  },
  {
   "cell_type": "code",
   "execution_count": 35,
   "id": "5d2b27cb",
   "metadata": {},
   "outputs": [
    {
     "data": {
      "text/html": [
       "<div>\n",
       "<style scoped>\n",
       "    .dataframe tbody tr th:only-of-type {\n",
       "        vertical-align: middle;\n",
       "    }\n",
       "\n",
       "    .dataframe tbody tr th {\n",
       "        vertical-align: top;\n",
       "    }\n",
       "\n",
       "    .dataframe thead th {\n",
       "        text-align: right;\n",
       "    }\n",
       "</style>\n",
       "<table border=\"1\" class=\"dataframe\">\n",
       "  <thead>\n",
       "    <tr style=\"text-align: right;\">\n",
       "      <th></th>\n",
       "      <th>mean radius</th>\n",
       "      <th>mean perimeter</th>\n",
       "      <th>mean area</th>\n",
       "      <th>classes</th>\n",
       "    </tr>\n",
       "  </thead>\n",
       "  <tbody>\n",
       "    <tr>\n",
       "      <th>0</th>\n",
       "      <td>17.99</td>\n",
       "      <td>122.8</td>\n",
       "      <td>1001.0</td>\n",
       "      <td>0</td>\n",
       "    </tr>\n",
       "    <tr>\n",
       "      <th>1</th>\n",
       "      <td>20.57</td>\n",
       "      <td>132.9</td>\n",
       "      <td>1326.0</td>\n",
       "      <td>0</td>\n",
       "    </tr>\n",
       "  </tbody>\n",
       "</table>\n",
       "</div>"
      ],
      "text/plain": [
       "   mean radius  mean perimeter  mean area  classes\n",
       "0        17.99           122.8     1001.0        0\n",
       "1        20.57           132.9     1326.0        0"
      ]
     },
     "execution_count": 35,
     "metadata": {},
     "output_type": "execute_result"
    }
   ],
   "source": [
    "df = DataFrame()\n",
    "df['mean radius'] = a['mean radius']\n",
    "df['mean perimeter'] = a['mean perimeter']\n",
    "df['mean area'] = a['mean area']\n",
    "df['classes'] = a['class']\n",
    "df.iloc[0:2,0:4]"
   ]
  },
  {
   "cell_type": "code",
   "execution_count": 3,
   "id": "19758457",
   "metadata": {},
   "outputs": [
    {
     "data": {
      "text/html": [
       "<div>\n",
       "<style scoped>\n",
       "    .dataframe tbody tr th:only-of-type {\n",
       "        vertical-align: middle;\n",
       "    }\n",
       "\n",
       "    .dataframe tbody tr th {\n",
       "        vertical-align: top;\n",
       "    }\n",
       "\n",
       "    .dataframe thead th {\n",
       "        text-align: right;\n",
       "    }\n",
       "</style>\n",
       "<table border=\"1\" class=\"dataframe\">\n",
       "  <thead>\n",
       "    <tr style=\"text-align: right;\">\n",
       "      <th></th>\n",
       "      <th>mean radius</th>\n",
       "      <th>mean perimeter</th>\n",
       "      <th>mean area</th>\n",
       "      <th>typeofcancer</th>\n",
       "    </tr>\n",
       "  </thead>\n",
       "  <tbody>\n",
       "    <tr>\n",
       "      <th>0</th>\n",
       "      <td>17.99</td>\n",
       "      <td>122.8</td>\n",
       "      <td>1001.0</td>\n",
       "      <td>0</td>\n",
       "    </tr>\n",
       "    <tr>\n",
       "      <th>1</th>\n",
       "      <td>20.57</td>\n",
       "      <td>132.9</td>\n",
       "      <td>1326.0</td>\n",
       "      <td>0</td>\n",
       "    </tr>\n",
       "  </tbody>\n",
       "</table>\n",
       "</div>"
      ],
      "text/plain": [
       "   mean radius  mean perimeter  mean area  typeofcancer\n",
       "0        17.99           122.8     1001.0             0\n",
       "1        20.57           132.9     1326.0             0"
      ]
     },
     "execution_count": 3,
     "metadata": {},
     "output_type": "execute_result"
    }
   ],
   "source": [
    "a.iloc[0:2,np.r_[0:1,2,3,30]]"
   ]
  },
  {
   "cell_type": "code",
   "execution_count": 4,
   "id": "2ffa2350",
   "metadata": {},
   "outputs": [
    {
     "data": {
      "text/html": [
       "<div>\n",
       "<style scoped>\n",
       "    .dataframe tbody tr th:only-of-type {\n",
       "        vertical-align: middle;\n",
       "    }\n",
       "\n",
       "    .dataframe tbody tr th {\n",
       "        vertical-align: top;\n",
       "    }\n",
       "\n",
       "    .dataframe thead th {\n",
       "        text-align: right;\n",
       "    }\n",
       "</style>\n",
       "<table border=\"1\" class=\"dataframe\">\n",
       "  <thead>\n",
       "    <tr style=\"text-align: right;\">\n",
       "      <th></th>\n",
       "      <th>mean radius</th>\n",
       "      <th>mean perimeter</th>\n",
       "      <th>mean area</th>\n",
       "      <th>typeofcancer</th>\n",
       "    </tr>\n",
       "  </thead>\n",
       "  <tbody>\n",
       "    <tr>\n",
       "      <th>17</th>\n",
       "      <td>16.130</td>\n",
       "      <td>108.10</td>\n",
       "      <td>798.8</td>\n",
       "      <td>0</td>\n",
       "    </tr>\n",
       "    <tr>\n",
       "      <th>18</th>\n",
       "      <td>19.810</td>\n",
       "      <td>130.00</td>\n",
       "      <td>1260.0</td>\n",
       "      <td>0</td>\n",
       "    </tr>\n",
       "    <tr>\n",
       "      <th>19</th>\n",
       "      <td>13.540</td>\n",
       "      <td>87.46</td>\n",
       "      <td>566.3</td>\n",
       "      <td>1</td>\n",
       "    </tr>\n",
       "    <tr>\n",
       "      <th>20</th>\n",
       "      <td>13.080</td>\n",
       "      <td>85.63</td>\n",
       "      <td>520.0</td>\n",
       "      <td>1</td>\n",
       "    </tr>\n",
       "    <tr>\n",
       "      <th>21</th>\n",
       "      <td>9.504</td>\n",
       "      <td>60.34</td>\n",
       "      <td>273.9</td>\n",
       "      <td>1</td>\n",
       "    </tr>\n",
       "  </tbody>\n",
       "</table>\n",
       "</div>"
      ],
      "text/plain": [
       "    mean radius  mean perimeter  mean area  typeofcancer\n",
       "17       16.130          108.10      798.8             0\n",
       "18       19.810          130.00     1260.0             0\n",
       "19       13.540           87.46      566.3             1\n",
       "20       13.080           85.63      520.0             1\n",
       "21        9.504           60.34      273.9             1"
      ]
     },
     "execution_count": 4,
     "metadata": {},
     "output_type": "execute_result"
    }
   ],
   "source": [
    "a.iloc[17:22,np.r_[0:1,2,3,30]]"
   ]
  },
  {
   "cell_type": "code",
   "execution_count": 5,
   "id": "7f9e0f20",
   "metadata": {},
   "outputs": [
    {
     "data": {
      "text/plain": [
       "<matplotlib.legend.Legend at 0x7fae68e0ec10>"
      ]
     },
     "execution_count": 5,
     "metadata": {},
     "output_type": "execute_result"
    },
    {
     "data": {
      "image/png": "[encoded data removed]",
      "text/plain": [
       "<Figure size 900x180 with 3 Axes>"
      ]
     },
     "metadata": {
      "needs_background": "light"
     },
     "output_type": "display_data"
    }
   ],
   "source": [
    "asorted = a.sort_values('typeofcancer', ignore_index=True)\n",
    "asorted.typeofcancer.value_counts()\n",
    "f0, f1 = asorted.typeofcancer.value_counts()\n",
    "fig, axs = plt.subplots(figsize = (12.5,2.5))\n",
    "\n",
    "axs1 = plt.subplot2grid(shape = (1,4), loc = (0,0))\n",
    "axs2 = plt.subplot2grid(shape = (1,4), loc = (0,1))\n",
    "axs3 = plt.subplot2grid(shape = (1,4), loc = (0,2))\n",
    "plt.tight_layout()\n",
    "\n",
    "axs1.hist(asorted.iloc[0:f1, 0], edgecolor = 'black', fc = 'none', label = 'c0 (Malignant)')\n",
    "axs1.hist(asorted.iloc[f1:f0+f1, 0], edgecolor = 'r', fc = 'none', label = 'c1 (Benign)')\n",
    "\n",
    "axs2.scatter(asorted.iloc[0:f1, 2], asorted.iloc[0:f1, 0], label = 'c0 (M)')\n",
    "axs2.scatter(asorted.iloc[f1:f0+f1, 2], asorted.iloc[f1:f0+f1, 0], label = 'c1 (B)')\n",
    "\n",
    "axs3.scatter(asorted.iloc[0:f1, 3], asorted.iloc[0:f1, 0], label = 'c0 (M)')\n",
    "axs3.scatter(asorted.iloc[f1:f0+f1, 3], asorted.iloc[f1:f0+f1, 0], label = 'c1 (B)')\n",
    "\n",
    "axs1.set_xlabel('Mean Radius')\n",
    "axs1.set_ylabel('Frequency')\n",
    "axs1.legend()\n",
    "\n",
    "axs2.set_xlabel('Mean Perimeter')\n",
    "axs2.set_ylabel('Mean Radius')\n",
    "axs2.legend()\n",
    "\n",
    "axs3.set_xlabel('Mean Area')\n",
    "axs3.set_ylabel('Mean Radius')\n",
    "axs3.legend()"
   ]
  },
  {
   "cell_type": "code",
   "execution_count": 6,
   "id": "5b414391",
   "metadata": {},
   "outputs": [
    {
     "data": {
      "text/plain": [
       "<matplotlib.legend.Legend at 0x7fae583346d0>"
      ]
     },
     "execution_count": 6,
     "metadata": {},
     "output_type": "execute_result"
    },
    {
     "data": {
      "image/png": "[encoded data removed]",
      "text/plain": [
       "<Figure size 900x180 with 4 Axes>"
      ]
     },
     "metadata": {
      "needs_background": "light"
     },
     "output_type": "display_data"
    }
   ],
   "source": [
    "asorted = a.sort_values('typeofcancer', ignore_index=True)\n",
    "asorted.typeofcancer.value_counts()\n",
    "f0, f1 = asorted.typeofcancer.value_counts()\n",
    "fig, axs = plt.subplots(figsize = (12.5,2.5))\n",
    "\n",
    "axs1 = plt.subplot2grid(shape = (1,4), loc = (0,0))\n",
    "axs2 = plt.subplot2grid(shape = (1,4), loc = (0,1))\n",
    "axs3 = plt.subplot2grid(shape = (1,4), loc = (0,2))\n",
    "axs4 = plt.subplot2grid(shape = (1,4), loc = (0,3))\n",
    "plt.tight_layout()\n",
    "\n",
    "axs1.hist(asorted.iloc[0:f1, 0], edgecolor = 'black', fc = 'none', label = 'c0 (M)')\n",
    "axs1.hist(asorted.iloc[f1:f0+f1, 0], edgecolor = 'r', fc = 'none', label = 'c1 (B)')\n",
    "\n",
    "axs2.scatter(asorted.iloc[0:f1, 6], asorted.iloc[0:f1, 0], label = 'c0 (M)')\n",
    "axs2.scatter(asorted.iloc[f1:f0+f1, 6], asorted.iloc[f1:f0+f1, 0], label = 'c1 (B)')\n",
    "\n",
    "axs3.scatter(asorted.iloc[0:f1, 7], asorted.iloc[0:f1, 0], label = 'c0 (M)')\n",
    "axs3.scatter(asorted.iloc[f1:f0+f1, 7], asorted.iloc[f1:f0+f1, 0], label = 'c1 (B)')\n",
    "\n",
    "axs4.scatter(asorted.iloc[0:f1, 8], asorted.iloc[0:f1, 0], label = 'c0 (M)')\n",
    "axs4.scatter(asorted.iloc[f1:f0+f1, 8], asorted.iloc[f1:f0+f1, 0], label = 'c1 (B)')\n",
    "\n",
    "axs1.set_xlabel('Mean Radius')\n",
    "axs1.set_ylabel('Frequency')\n",
    "axs1.legend()\n",
    "\n",
    "axs2.set_xlabel('Mean Concavity')\n",
    "axs2.set_ylabel('Mean Radius')\n",
    "axs2.legend()\n",
    "\n",
    "axs3.set_xlabel('Mean Concave Points')\n",
    "axs3.set_ylabel('Mean Radius')\n",
    "axs3.legend()\n",
    "\n",
    "axs4.set_xlabel('Mean Symmetry')\n",
    "axs4.set_ylabel('Mean Radius')\n",
    "axs4.legend()"
   ]
  },
  {
   "cell_type": "code",
   "execution_count": 7,
   "id": "b2ef975c",
   "metadata": {},
   "outputs": [
    {
     "data": {
      "text/html": [
       "<div>\n",
       "<style scoped>\n",
       "    .dataframe tbody tr th:only-of-type {\n",
       "        vertical-align: middle;\n",
       "    }\n",
       "\n",
       "    .dataframe tbody tr th {\n",
       "        vertical-align: top;\n",
       "    }\n",
       "\n",
       "    .dataframe thead th {\n",
       "        text-align: right;\n",
       "    }\n",
       "</style>\n",
       "<table border=\"1\" class=\"dataframe\">\n",
       "  <thead>\n",
       "    <tr style=\"text-align: right;\">\n",
       "      <th></th>\n",
       "      <th>Games played</th>\n",
       "      <th>Goals</th>\n",
       "      <th>Assists</th>\n",
       "      <th>Trophies Won</th>\n",
       "      <th>Player</th>\n",
       "    </tr>\n",
       "  </thead>\n",
       "  <tbody>\n",
       "    <tr>\n",
       "      <th>0</th>\n",
       "      <td>55</td>\n",
       "      <td>53</td>\n",
       "      <td>23</td>\n",
       "      <td>4</td>\n",
       "      <td>Messi 2010/11</td>\n",
       "    </tr>\n",
       "    <tr>\n",
       "      <th>1</th>\n",
       "      <td>60</td>\n",
       "      <td>73</td>\n",
       "      <td>29</td>\n",
       "      <td>6</td>\n",
       "      <td>Messi 2011/12</td>\n",
       "    </tr>\n",
       "    <tr>\n",
       "      <th>2</th>\n",
       "      <td>50</td>\n",
       "      <td>60</td>\n",
       "      <td>15</td>\n",
       "      <td>3</td>\n",
       "      <td>Messi 2012/13</td>\n",
       "    </tr>\n",
       "    <tr>\n",
       "      <th>3</th>\n",
       "      <td>46</td>\n",
       "      <td>41</td>\n",
       "      <td>14</td>\n",
       "      <td>1</td>\n",
       "      <td>Messi 2013/14</td>\n",
       "    </tr>\n",
       "    <tr>\n",
       "      <th>4</th>\n",
       "      <td>57</td>\n",
       "      <td>58</td>\n",
       "      <td>27</td>\n",
       "      <td>3</td>\n",
       "      <td>Messi 2014/15</td>\n",
       "    </tr>\n",
       "    <tr>\n",
       "      <th>5</th>\n",
       "      <td>54</td>\n",
       "      <td>53</td>\n",
       "      <td>15</td>\n",
       "      <td>2</td>\n",
       "      <td>Ronaldo 2010/11</td>\n",
       "    </tr>\n",
       "    <tr>\n",
       "      <th>6</th>\n",
       "      <td>55</td>\n",
       "      <td>60</td>\n",
       "      <td>15</td>\n",
       "      <td>1</td>\n",
       "      <td>Ronaldo 2011/12</td>\n",
       "    </tr>\n",
       "    <tr>\n",
       "      <th>7</th>\n",
       "      <td>55</td>\n",
       "      <td>55</td>\n",
       "      <td>12</td>\n",
       "      <td>1</td>\n",
       "      <td>Ronaldo 2012/13</td>\n",
       "    </tr>\n",
       "    <tr>\n",
       "      <th>8</th>\n",
       "      <td>47</td>\n",
       "      <td>51</td>\n",
       "      <td>14</td>\n",
       "      <td>4</td>\n",
       "      <td>Ronaldo 2013/14</td>\n",
       "    </tr>\n",
       "    <tr>\n",
       "      <th>9</th>\n",
       "      <td>54</td>\n",
       "      <td>61</td>\n",
       "      <td>21</td>\n",
       "      <td>4</td>\n",
       "      <td>Ronaldo 2014/15</td>\n",
       "    </tr>\n",
       "  </tbody>\n",
       "</table>\n",
       "</div>"
      ],
      "text/plain": [
       "   Games played  Goals  Assists  Trophies Won           Player\n",
       "0            55     53       23             4    Messi 2010/11\n",
       "1            60     73       29             6    Messi 2011/12\n",
       "2            50     60       15             3    Messi 2012/13\n",
       "3            46     41       14             1    Messi 2013/14\n",
       "4            57     58       27             3    Messi 2014/15\n",
       "5            54     53       15             2  Ronaldo 2010/11\n",
       "6            55     60       15             1  Ronaldo 2011/12\n",
       "7            55     55       12             1  Ronaldo 2012/13\n",
       "8            47     51       14             4  Ronaldo 2013/14\n",
       "9            54     61       21             4  Ronaldo 2014/15"
      ]
     },
     "execution_count": 7,
     "metadata": {},
     "output_type": "execute_result"
    }
   ],
   "source": [
    "import pandas as pd\n",
    "from pandas import DataFrame\n",
    "\n",
    "comparision = DataFrame()\n",
    "comparision['Games played'] = [55, 60, 50, 46, 57, 54, 55, 55, 47, 54]\n",
    "comparision['Goals'] = [53, 73, 60, 41, 58, 53, 60, 55, 51, 61]\n",
    "comparision['Assists'] = [23, 29, 15, 14, 27, 15, 15, 12, 14, 21]\n",
    "comparision['Trophies Won'] = [4, 6, 3, 1, 3, 2, 1, 1, 4, 4]\n",
    "comparision['Player'] = ['Messi 2010/11', 'Messi 2011/12', 'Messi 2012/13', 'Messi 2013/14', 'Messi 2014/15', 'Ronaldo 2010/11', 'Ronaldo 2011/12', 'Ronaldo 2012/13', 'Ronaldo 2013/14', 'Ronaldo 2014/15']\n",
    "comparision"
   ]
  },
  {
   "cell_type": "code",
   "execution_count": null,
   "id": "75746140",
   "metadata": {},
   "outputs": [],
   "source": []
  },
  {
   "cell_type": "code",
   "execution_count": null,
   "id": "8efcbcf8",
   "metadata": {},
   "outputs": [],
   "source": []
  }
 ],
 "metadata": {
  "kernelspec": {
   "display_name": "Python 3",
   "language": "python",
   "name": "python3"
  },
  "language_info": {
   "codemirror_mode": {
    "name": "ipython",
    "version": 3
   },
   "file_extension": ".py",
   "mimetype": "text/x-python",
   "name": "python",
   "nbconvert_exporter": "python",
   "pygments_lexer": "ipython3",
   "version": "3.8.8"
  }
 },
 "nbformat": 4,
 "nbformat_minor": 5
}
