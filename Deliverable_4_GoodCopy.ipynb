{
 "cells": [
  {
   "cell_type": "code",
   "execution_count": 71,
   "id": "6e3231e4",
   "metadata": {},
   "outputs": [],
   "source": [
    "import numpy as np\n",
    "import pandas as pd\n",
    "import matplotlib.pyplot as plt\n",
    "from pandas import Series, DataFrame"
   ]
  },
  {
   "cell_type": "code",
   "execution_count": 72,
   "id": "3c24c9eb",
   "metadata": {},
   "outputs": [
    {
     "data": {
      "text/html": [
       "<div>\n",
       "<style scoped>\n",
       "    .dataframe tbody tr th:only-of-type {\n",
       "        vertical-align: middle;\n",
       "    }\n",
       "\n",
       "    .dataframe tbody tr th {\n",
       "        vertical-align: top;\n",
       "    }\n",
       "\n",
       "    .dataframe thead th {\n",
       "        text-align: right;\n",
       "    }\n",
       "</style>\n",
       "<table border=\"1\" class=\"dataframe\">\n",
       "  <thead>\n",
       "    <tr style=\"text-align: right;\">\n",
       "      <th></th>\n",
       "      <th>Win_Loss_Ratio</th>\n",
       "      <th>Goals_Scored</th>\n",
       "      <th>Goals_Against</th>\n",
       "      <th>Team</th>\n",
       "    </tr>\n",
       "  </thead>\n",
       "  <tbody>\n",
       "    <tr>\n",
       "      <th>0</th>\n",
       "      <td>1.181818</td>\n",
       "      <td>62</td>\n",
       "      <td>47</td>\n",
       "      <td>Barca</td>\n",
       "    </tr>\n",
       "    <tr>\n",
       "      <th>1</th>\n",
       "      <td>2.250000</td>\n",
       "      <td>81</td>\n",
       "      <td>46</td>\n",
       "      <td>Barca</td>\n",
       "    </tr>\n",
       "    <tr>\n",
       "      <th>2</th>\n",
       "      <td>1.100000</td>\n",
       "      <td>45</td>\n",
       "      <td>36</td>\n",
       "      <td>Barca</td>\n",
       "    </tr>\n",
       "    <tr>\n",
       "      <th>3</th>\n",
       "      <td>2.714286</td>\n",
       "      <td>74</td>\n",
       "      <td>38</td>\n",
       "      <td>Barca</td>\n",
       "    </tr>\n",
       "    <tr>\n",
       "      <th>4</th>\n",
       "      <td>1.166667</td>\n",
       "      <td>59</td>\n",
       "      <td>41</td>\n",
       "      <td>Barca</td>\n",
       "    </tr>\n",
       "    <tr>\n",
       "      <th>...</th>\n",
       "      <td>...</td>\n",
       "      <td>...</td>\n",
       "      <td>...</td>\n",
       "      <td>...</td>\n",
       "    </tr>\n",
       "    <tr>\n",
       "      <th>117</th>\n",
       "      <td>9.666667</td>\n",
       "      <td>106</td>\n",
       "      <td>41</td>\n",
       "      <td>Madrid</td>\n",
       "    </tr>\n",
       "    <tr>\n",
       "      <th>118</th>\n",
       "      <td>3.666667</td>\n",
       "      <td>94</td>\n",
       "      <td>44</td>\n",
       "      <td>Madrid</td>\n",
       "    </tr>\n",
       "    <tr>\n",
       "      <th>119</th>\n",
       "      <td>1.750000</td>\n",
       "      <td>63</td>\n",
       "      <td>46</td>\n",
       "      <td>Madrid</td>\n",
       "    </tr>\n",
       "    <tr>\n",
       "      <th>120</th>\n",
       "      <td>8.666667</td>\n",
       "      <td>70</td>\n",
       "      <td>25</td>\n",
       "      <td>Madrid</td>\n",
       "    </tr>\n",
       "    <tr>\n",
       "      <th>121</th>\n",
       "      <td>6.250000</td>\n",
       "      <td>67</td>\n",
       "      <td>28</td>\n",
       "      <td>Madrid</td>\n",
       "    </tr>\n",
       "  </tbody>\n",
       "</table>\n",
       "<p>122 rows × 4 columns</p>\n",
       "</div>"
      ],
      "text/plain": [
       "     Win_Loss_Ratio  Goals_Scored  Goals_Against    Team\n",
       "0          1.181818            62             47   Barca\n",
       "1          2.250000            81             46   Barca\n",
       "2          1.100000            45             36   Barca\n",
       "3          2.714286            74             38   Barca\n",
       "4          1.166667            59             41   Barca\n",
       "..              ...           ...            ...     ...\n",
       "117        9.666667           106             41  Madrid\n",
       "118        3.666667            94             44  Madrid\n",
       "119        1.750000            63             46  Madrid\n",
       "120        8.666667            70             25  Madrid\n",
       "121        6.250000            67             28  Madrid\n",
       "\n",
       "[122 rows x 4 columns]"
      ]
     },
     "execution_count": 72,
     "metadata": {},
     "output_type": "execute_result"
    }
   ],
   "source": [
    "df = DataFrame()\n",
    "df = pd.read_excel(r'/Users/yousefhammad/Desktop/endg 319/barcavsmadrid.xlsx')\n",
    "df"
   ]
  },
  {
   "cell_type": "markdown",
   "id": "7a021456",
   "metadata": {},
   "source": [
    "# Task 1"
   ]
  },
  {
   "cell_type": "code",
   "execution_count": 73,
   "id": "ab46708f",
   "metadata": {},
   "outputs": [
    {
     "data": {
      "text/html": [
       "<div>\n",
       "<style scoped>\n",
       "    .dataframe tbody tr th:only-of-type {\n",
       "        vertical-align: middle;\n",
       "    }\n",
       "\n",
       "    .dataframe tbody tr th {\n",
       "        vertical-align: top;\n",
       "    }\n",
       "\n",
       "    .dataframe thead th {\n",
       "        text-align: right;\n",
       "    }\n",
       "</style>\n",
       "<table border=\"1\" class=\"dataframe\">\n",
       "  <thead>\n",
       "    <tr style=\"text-align: right;\">\n",
       "      <th></th>\n",
       "      <th>Win_Loss_Ratio</th>\n",
       "      <th>Goals_Scored</th>\n",
       "      <th>Goals_Against</th>\n",
       "    </tr>\n",
       "  </thead>\n",
       "  <tbody>\n",
       "    <tr>\n",
       "      <th>0</th>\n",
       "      <td>1.181818</td>\n",
       "      <td>62</td>\n",
       "      <td>47</td>\n",
       "    </tr>\n",
       "    <tr>\n",
       "      <th>1</th>\n",
       "      <td>2.250000</td>\n",
       "      <td>81</td>\n",
       "      <td>46</td>\n",
       "    </tr>\n",
       "    <tr>\n",
       "      <th>2</th>\n",
       "      <td>1.100000</td>\n",
       "      <td>45</td>\n",
       "      <td>36</td>\n",
       "    </tr>\n",
       "    <tr>\n",
       "      <th>3</th>\n",
       "      <td>2.714286</td>\n",
       "      <td>74</td>\n",
       "      <td>38</td>\n",
       "    </tr>\n",
       "    <tr>\n",
       "      <th>4</th>\n",
       "      <td>1.166667</td>\n",
       "      <td>59</td>\n",
       "      <td>41</td>\n",
       "    </tr>\n",
       "    <tr>\n",
       "      <th>...</th>\n",
       "      <td>...</td>\n",
       "      <td>...</td>\n",
       "      <td>...</td>\n",
       "    </tr>\n",
       "    <tr>\n",
       "      <th>117</th>\n",
       "      <td>9.666667</td>\n",
       "      <td>106</td>\n",
       "      <td>41</td>\n",
       "    </tr>\n",
       "    <tr>\n",
       "      <th>118</th>\n",
       "      <td>3.666667</td>\n",
       "      <td>94</td>\n",
       "      <td>44</td>\n",
       "    </tr>\n",
       "    <tr>\n",
       "      <th>119</th>\n",
       "      <td>1.750000</td>\n",
       "      <td>63</td>\n",
       "      <td>46</td>\n",
       "    </tr>\n",
       "    <tr>\n",
       "      <th>120</th>\n",
       "      <td>8.666667</td>\n",
       "      <td>70</td>\n",
       "      <td>25</td>\n",
       "    </tr>\n",
       "    <tr>\n",
       "      <th>121</th>\n",
       "      <td>6.250000</td>\n",
       "      <td>67</td>\n",
       "      <td>28</td>\n",
       "    </tr>\n",
       "  </tbody>\n",
       "</table>\n",
       "<p>122 rows × 3 columns</p>\n",
       "</div>"
      ],
      "text/plain": [
       "     Win_Loss_Ratio  Goals_Scored  Goals_Against\n",
       "0          1.181818            62             47\n",
       "1          2.250000            81             46\n",
       "2          1.100000            45             36\n",
       "3          2.714286            74             38\n",
       "4          1.166667            59             41\n",
       "..              ...           ...            ...\n",
       "117        9.666667           106             41\n",
       "118        3.666667            94             44\n",
       "119        1.750000            63             46\n",
       "120        8.666667            70             25\n",
       "121        6.250000            67             28\n",
       "\n",
       "[122 rows x 3 columns]"
      ]
     },
     "execution_count": 73,
     "metadata": {},
     "output_type": "execute_result"
    }
   ],
   "source": [
    "dfX = df.drop (columns = ['Team'])\n",
    "sy = df.Team\n",
    "dfX"
   ]
  },
  {
   "cell_type": "code",
   "execution_count": 74,
   "id": "57c8ce07",
   "metadata": {},
   "outputs": [],
   "source": [
    "from sklearn.model_selection import train_test_split #seperating into 2 sets -> test and train\n",
    "dfX_train, dfX_test, sy_train, sy_test = train_test_split(dfX,sy,test_size = 0.25, random_state = 0)"
   ]
  },
  {
   "cell_type": "code",
   "execution_count": 75,
   "id": "b09627e6",
   "metadata": {},
   "outputs": [],
   "source": [
    "dfX_train, dfX_test, sy_train, sy_test;"
   ]
  },
  {
   "cell_type": "code",
   "execution_count": 76,
   "id": "2ed4962f",
   "metadata": {},
   "outputs": [
    {
     "data": {
      "text/plain": [
       "LabelEncoder()"
      ]
     },
     "execution_count": 76,
     "metadata": {},
     "output_type": "execute_result"
    }
   ],
   "source": [
    "from sklearn import preprocessing\n",
    "le = preprocessing.LabelEncoder()\n",
    "le"
   ]
  },
  {
   "cell_type": "code",
   "execution_count": 77,
   "id": "3b203994",
   "metadata": {},
   "outputs": [
    {
     "data": {
      "text/plain": [
       "array(['Barca', 'Madrid'], dtype=object)"
      ]
     },
     "execution_count": 77,
     "metadata": {},
     "output_type": "execute_result"
    }
   ],
   "source": [
    "le = le.fit(sy_train)\n",
    "le.classes_"
   ]
  },
  {
   "cell_type": "code",
   "execution_count": 78,
   "id": "40cd5a68",
   "metadata": {},
   "outputs": [
    {
     "data": {
      "text/plain": [
       "(62     Madrid\n",
       " 59      Barca\n",
       " 43      Barca\n",
       " 51      Barca\n",
       " 3       Barca\n",
       "         ...  \n",
       " 67     Madrid\n",
       " 64     Madrid\n",
       " 117    Madrid\n",
       " 47      Barca\n",
       " 44      Barca\n",
       " Name: Team, Length: 91, dtype: object,\n",
       " array([1, 0, 0, 0, 0, 1, 0, 1, 0, 1, 1, 0, 1, 1, 0, 0, 1, 0, 1, 1, 1, 1,\n",
       "        0, 0, 1, 0, 0, 0, 0, 0, 0, 0, 0, 0, 0, 1, 1, 0, 0, 0, 0, 0, 0, 0,\n",
       "        1, 0, 1, 1, 0, 1, 0, 1, 0, 0, 0, 1, 1, 1, 1, 1, 1, 0, 1, 1, 1, 0,\n",
       "        0, 1, 1, 0, 1, 0, 1, 1, 0, 0, 1, 1, 1, 1, 0, 0, 1, 0, 1, 1, 1, 1,\n",
       "        1, 0, 0]))"
      ]
     },
     "execution_count": 78,
     "metadata": {},
     "output_type": "execute_result"
    }
   ],
   "source": [
    "y_train = le.transform(sy_train)\n",
    "sy_train, y_train"
   ]
  },
  {
   "cell_type": "code",
   "execution_count": 79,
   "id": "0a30b09b",
   "metadata": {},
   "outputs": [
    {
     "data": {
      "text/plain": [
       "array([[  3.16666667,  58.        ,  24.        ],\n",
       "       [  4.16666667,  86.        ,  38.        ],\n",
       "       [  2.625     ,  63.        ,  39.        ],\n",
       "       [  9.33333333, 114.        ,  29.        ],\n",
       "       [  2.71428571,  74.        ,  38.        ],\n",
       "       [  1.18181818,  46.        ,  36.        ],\n",
       "       [  2.5       ,  58.        ,  29.        ],\n",
       "       [  3.125     ,  71.        ,  32.        ],\n",
       "       [  5.4       , 105.        ,  35.        ],\n",
       "       [  3.28571429,  78.        ,  32.        ],\n",
       "       [  2.5       ,  70.        ,  40.        ],\n",
       "       [ 15.        ,  95.        ,  21.        ],\n",
       "       [  1.88888889,  63.        ,  45.        ],\n",
       "       [  7.        , 110.        ,  34.        ],\n",
       "       [  1.07142857,  49.        ,  44.        ],\n",
       "       [  1.33333333,  69.        ,  37.        ],\n",
       "       [  2.        ,  58.        ,  48.        ],\n",
       "       [  2.125     ,  40.        ,  26.        ],\n",
       "       [  5.75      ,  83.        ,  33.        ],\n",
       "       [  1.58333333,  61.        ,  50.        ],\n",
       "       [  3.33333333,  54.        ,  26.        ],\n",
       "       [  1.66666667,  63.        ,  37.        ],\n",
       "       [  7.5       , 110.        ,  21.        ],\n",
       "       [  2.25      ,  81.        ,  46.        ],\n",
       "       [  1.        ,  48.        ,  38.        ],\n",
       "       [  1.25      ,  63.        ,  47.        ],\n",
       "       [  1.8       ,  65.        ,  37.        ],\n",
       "       [  1.16666667,  59.        ,  41.        ],\n",
       "       [  2.        ,  61.        ,  41.        ],\n",
       "       [  1.77777778,  49.        ,  29.        ],\n",
       "       [ 16.        , 115.        ,  40.        ],\n",
       "       [  1.88888889,  80.        ,  57.        ],\n",
       "       [  3.42857143,  87.        ,  43.        ],\n",
       "       [  2.        ,  51.        ,  27.        ],\n",
       "       [  5.4       , 100.        ,  33.        ],\n",
       "       [  7.25      , 102.        ,  33.        ],\n",
       "       [  4.        ,  55.        ,  26.        ],\n",
       "       [  1.18181818,  62.        ,  47.        ],\n",
       "       [  1.8       ,  60.        ,  45.        ],\n",
       "       [  5.75      ,  80.        ,  26.        ],\n",
       "       [  5.8       , 112.        ,  29.        ],\n",
       "       [  3.66666667,  72.        ,  39.        ],\n",
       "       [  3.33333333,  62.        ,  28.        ],\n",
       "       [  3.83333333,  87.        ,  37.        ],\n",
       "       [ 25.        ,  91.        ,  37.        ],\n",
       "       [ 28.        ,  99.        ,  29.        ],\n",
       "       [  4.8       ,  75.        ,  28.        ],\n",
       "       [  2.1       ,  72.        ,  54.        ],\n",
       "       [  5.        ,  87.        ,  34.        ],\n",
       "       [  5.        , 118.        ,  38.        ],\n",
       "       [  1.25      ,  57.        ,  36.        ],\n",
       "       [  5.2       , 103.        ,  42.        ],\n",
       "       [  1.44444444,  42.        ,  33.        ],\n",
       "       [  2.3       ,  83.        ,  39.        ],\n",
       "       [ 31.        ,  98.        ,  24.        ],\n",
       "       [  2.25      ,  57.        ,  34.        ],\n",
       "       [  3.66666667,  94.        ,  44.        ],\n",
       "       [  8.66666667,  70.        ,  25.        ],\n",
       "       [  5.33333333,  61.        ,  36.        ],\n",
       "       [ 18.        ,  46.        ,  21.        ],\n",
       "       [  7.33333333,  70.        ,  33.        ],\n",
       "       [  1.63636364,  66.        ,  41.        ],\n",
       "       [  5.4       , 104.        ,  38.        ],\n",
       "       [  3.16666667,  51.        ,  27.        ],\n",
       "       [  1.        ,  57.        ,  53.        ],\n",
       "       [  2.57142857,  61.        ,  36.        ],\n",
       "       [  2.3       ,  78.        ,  56.        ],\n",
       "       [  2.22222222,  66.        ,  37.        ],\n",
       "       [  2.875     ,  66.        ,  40.        ],\n",
       "       [  3.66666667,  78.        ,  33.        ],\n",
       "       [  7.75      , 102.        ,  35.        ],\n",
       "       [  1.58333333,  70.        ,  46.        ],\n",
       "       [  1.9       ,  69.        ,  44.        ],\n",
       "       [  5.25      ,  64.        ,  18.        ],\n",
       "       [  8.66666667,  90.        ,  36.        ],\n",
       "       [  3.        ,  41.        ,  21.        ],\n",
       "       [  3.85714286,  84.        ,  36.        ],\n",
       "       [  7.        ,  95.        ,  26.        ],\n",
       "       [  1.625     ,  50.        ,  42.        ],\n",
       "       [  5.4       ,  84.        ,  37.        ],\n",
       "       [  3.5       , 102.        ,  48.        ],\n",
       "       [  2.375     ,  75.        ,  40.        ],\n",
       "       [  4.        ,  57.        ,  25.        ],\n",
       "       [  1.625     ,  40.        ,  31.        ],\n",
       "       [  5.5       ,  86.        ,  42.        ],\n",
       "       [  1.75      ,  63.        ,  46.        ],\n",
       "       [  9.5       ,  58.        ,  22.        ],\n",
       "       [  3.66666667,  61.        ,  23.        ],\n",
       "       [  9.66666667, 106.        ,  41.        ],\n",
       "       [  2.11111111,  76.        ,  43.        ],\n",
       "       [  6.25      ,  73.        ,  29.        ]])"
      ]
     },
     "execution_count": 79,
     "metadata": {},
     "output_type": "execute_result"
    }
   ],
   "source": [
    "dfX_train.to_numpy()"
   ]
  },
  {
   "cell_type": "code",
   "execution_count": 80,
   "id": "da4ebff6",
   "metadata": {},
   "outputs": [
    {
     "data": {
      "text/plain": [
       "(array([[0.07222222, 0.23076923, 0.15384615],\n",
       "        [0.10555556, 0.58974359, 0.51282051],\n",
       "        [0.05416667, 0.29487179, 0.53846154],\n",
       "        [0.27777778, 0.94871795, 0.28205128],\n",
       "        [0.05714286, 0.43589744, 0.51282051],\n",
       "        [0.00606061, 0.07692308, 0.46153846],\n",
       "        [0.05      , 0.23076923, 0.28205128],\n",
       "        [0.07083333, 0.3974359 , 0.35897436],\n",
       "        [0.14666667, 0.83333333, 0.43589744],\n",
       "        [0.07619048, 0.48717949, 0.35897436],\n",
       "        [0.05      , 0.38461538, 0.56410256],\n",
       "        [0.46666667, 0.70512821, 0.07692308],\n",
       "        [0.02962963, 0.29487179, 0.69230769],\n",
       "        [0.2       , 0.8974359 , 0.41025641],\n",
       "        [0.00238095, 0.11538462, 0.66666667],\n",
       "        [0.01111111, 0.37179487, 0.48717949],\n",
       "        [0.03333333, 0.23076923, 0.76923077],\n",
       "        [0.0375    , 0.        , 0.20512821],\n",
       "        [0.15833333, 0.55128205, 0.38461538],\n",
       "        [0.01944444, 0.26923077, 0.82051282],\n",
       "        [0.07777778, 0.17948718, 0.20512821],\n",
       "        [0.02222222, 0.29487179, 0.48717949],\n",
       "        [0.21666667, 0.8974359 , 0.07692308],\n",
       "        [0.04166667, 0.52564103, 0.71794872],\n",
       "        [0.        , 0.1025641 , 0.51282051],\n",
       "        [0.00833333, 0.29487179, 0.74358974],\n",
       "        [0.02666667, 0.32051282, 0.48717949],\n",
       "        [0.00555556, 0.24358974, 0.58974359],\n",
       "        [0.03333333, 0.26923077, 0.58974359],\n",
       "        [0.02592593, 0.11538462, 0.28205128],\n",
       "        [0.5       , 0.96153846, 0.56410256],\n",
       "        [0.02962963, 0.51282051, 1.        ],\n",
       "        [0.08095238, 0.6025641 , 0.64102564],\n",
       "        [0.03333333, 0.14102564, 0.23076923],\n",
       "        [0.14666667, 0.76923077, 0.38461538],\n",
       "        [0.20833333, 0.79487179, 0.38461538],\n",
       "        [0.1       , 0.19230769, 0.20512821],\n",
       "        [0.00606061, 0.28205128, 0.74358974],\n",
       "        [0.02666667, 0.25641026, 0.69230769],\n",
       "        [0.15833333, 0.51282051, 0.20512821],\n",
       "        [0.16      , 0.92307692, 0.28205128],\n",
       "        [0.08888889, 0.41025641, 0.53846154],\n",
       "        [0.07777778, 0.28205128, 0.25641026],\n",
       "        [0.09444444, 0.6025641 , 0.48717949],\n",
       "        [0.8       , 0.65384615, 0.48717949],\n",
       "        [0.9       , 0.75641026, 0.28205128],\n",
       "        [0.12666667, 0.44871795, 0.25641026],\n",
       "        [0.03666667, 0.41025641, 0.92307692],\n",
       "        [0.13333333, 0.6025641 , 0.41025641],\n",
       "        [0.13333333, 1.        , 0.51282051],\n",
       "        [0.00833333, 0.21794872, 0.46153846],\n",
       "        [0.14      , 0.80769231, 0.61538462],\n",
       "        [0.01481481, 0.02564103, 0.38461538],\n",
       "        [0.04333333, 0.55128205, 0.53846154],\n",
       "        [1.        , 0.74358974, 0.15384615],\n",
       "        [0.04166667, 0.21794872, 0.41025641],\n",
       "        [0.08888889, 0.69230769, 0.66666667],\n",
       "        [0.25555556, 0.38461538, 0.17948718],\n",
       "        [0.14444444, 0.26923077, 0.46153846],\n",
       "        [0.56666667, 0.07692308, 0.07692308],\n",
       "        [0.21111111, 0.38461538, 0.38461538],\n",
       "        [0.02121212, 0.33333333, 0.58974359],\n",
       "        [0.14666667, 0.82051282, 0.51282051],\n",
       "        [0.07222222, 0.14102564, 0.23076923],\n",
       "        [0.        , 0.21794872, 0.8974359 ],\n",
       "        [0.05238095, 0.26923077, 0.46153846],\n",
       "        [0.04333333, 0.48717949, 0.97435897],\n",
       "        [0.04074074, 0.33333333, 0.48717949],\n",
       "        [0.0625    , 0.33333333, 0.56410256],\n",
       "        [0.08888889, 0.48717949, 0.38461538],\n",
       "        [0.225     , 0.79487179, 0.43589744],\n",
       "        [0.01944444, 0.38461538, 0.71794872],\n",
       "        [0.03      , 0.37179487, 0.66666667],\n",
       "        [0.14166667, 0.30769231, 0.        ],\n",
       "        [0.25555556, 0.64102564, 0.46153846],\n",
       "        [0.06666667, 0.01282051, 0.07692308],\n",
       "        [0.0952381 , 0.56410256, 0.46153846],\n",
       "        [0.2       , 0.70512821, 0.20512821],\n",
       "        [0.02083333, 0.12820513, 0.61538462],\n",
       "        [0.14666667, 0.56410256, 0.48717949],\n",
       "        [0.08333333, 0.79487179, 0.76923077],\n",
       "        [0.04583333, 0.44871795, 0.56410256],\n",
       "        [0.1       , 0.21794872, 0.17948718],\n",
       "        [0.02083333, 0.        , 0.33333333],\n",
       "        [0.15      , 0.58974359, 0.61538462],\n",
       "        [0.025     , 0.29487179, 0.71794872],\n",
       "        [0.28333333, 0.23076923, 0.1025641 ],\n",
       "        [0.08888889, 0.26923077, 0.12820513],\n",
       "        [0.28888889, 0.84615385, 0.58974359],\n",
       "        [0.03703704, 0.46153846, 0.64102564],\n",
       "        [0.175     , 0.42307692, 0.28205128]]),\n",
       " (91, 3))"
      ]
     },
     "execution_count": 80,
     "metadata": {},
     "output_type": "execute_result"
    }
   ],
   "source": [
    "n1 = preprocessing.MinMaxScaler() #preprocessing attributes using MinMaxScaler()\n",
    "n1 = n1.fit(dfX_train.to_numpy())\n",
    "X_train = n1.transform (dfX_train.to_numpy())\n",
    "X_train, X_train.shape"
   ]
  },
  {
   "cell_type": "code",
   "execution_count": 81,
   "id": "cfaedd4c",
   "metadata": {},
   "outputs": [
    {
     "data": {
      "text/plain": [
       "KNeighborsClassifier(n_neighbors=1)"
      ]
     },
     "execution_count": 81,
     "metadata": {},
     "output_type": "execute_result"
    }
   ],
   "source": [
    "from sklearn.neighbors import KNeighborsClassifier #classifier model development \n",
    "knn = KNeighborsClassifier(n_neighbors=1)\n",
    "knn=knn.fit(X_train,y_train)\n",
    "knn"
   ]
  },
  {
   "cell_type": "code",
   "execution_count": 82,
   "id": "7220583a",
   "metadata": {},
   "outputs": [
    {
     "data": {
      "text/plain": [
       "(84     Madrid\n",
       " 97     Madrid\n",
       " 10      Barca\n",
       " 71     Madrid\n",
       " 8       Barca\n",
       " 45      Barca\n",
       " 22      Barca\n",
       " 7       Barca\n",
       " 61     Madrid\n",
       " 90     Madrid\n",
       " 86     Madrid\n",
       " 109    Madrid\n",
       " 33      Barca\n",
       " 66     Madrid\n",
       " 2       Barca\n",
       " 78     Madrid\n",
       " 99     Madrid\n",
       " 24      Barca\n",
       " 121    Madrid\n",
       " 30      Barca\n",
       " 95     Madrid\n",
       " 101    Madrid\n",
       " 60      Barca\n",
       " 16      Barca\n",
       " 96     Madrid\n",
       " 112    Madrid\n",
       " 13      Barca\n",
       " 75     Madrid\n",
       " 73     Madrid\n",
       " 26      Barca\n",
       " 56      Barca\n",
       " Name: Team, dtype: object,\n",
       " array([1, 1, 0, 1, 0, 0, 0, 0, 1, 1, 1, 1, 0, 1, 0, 1, 1, 0, 1, 0, 1, 1,\n",
       "        0, 0, 1, 1, 0, 1, 1, 0, 0]))"
      ]
     },
     "execution_count": 82,
     "metadata": {},
     "output_type": "execute_result"
    }
   ],
   "source": [
    "y_test = le.transform(sy_test.to_numpy())\n",
    "sy_test, y_test"
   ]
  },
  {
   "cell_type": "code",
   "execution_count": 83,
   "id": "ef33fbcd",
   "metadata": {},
   "outputs": [
    {
     "data": {
      "text/plain": [
       "(     Win_Loss_Ratio  Goals_Scored  Goals_Against\n",
       " 84         3.142857            59             37\n",
       " 97         6.750000            85             36\n",
       " 10         3.166667            50             22\n",
       " 71         2.833333            46             24\n",
       " 8          1.857143            40             18\n",
       " 45         4.166667            80             35\n",
       " 22         2.428571            60             29\n",
       " 7          2.500000            48             29\n",
       " 61        12.000000            89             25\n",
       " 90        13.000000           107             38\n",
       " 86         6.500000            83             33\n",
       " 109        2.500000            83             52\n",
       " 33         3.571429            91             42\n",
       " 66         3.166667            53             30\n",
       " 2          1.100000            45             36\n",
       " 78         2.444444            77             40\n",
       " 99         1.750000            77             62\n",
       " 24        10.500000            69             25\n",
       " 121        6.250000            67             28\n",
       " 30         4.166667            74             33\n",
       " 95         3.833333            76             29\n",
       " 101        4.000000            81             40\n",
       " 60         3.428571            85             38\n",
       " 16         2.571429            69             34\n",
       " 96         1.666667            75             51\n",
       " 112       16.000000           121             32\n",
       " 13         4.200000            75             24\n",
       " 75         5.000000            66             34\n",
       " 73         2.125000            45             29\n",
       " 26         4.800000            63             29\n",
       " 56         7.000000           116             37,\n",
       " array([[0.07142857, 0.24358974, 0.48717949],\n",
       "        [0.19166667, 0.57692308, 0.46153846],\n",
       "        [0.07222222, 0.12820513, 0.1025641 ],\n",
       "        [0.06111111, 0.07692308, 0.15384615],\n",
       "        [0.02857143, 0.        , 0.        ],\n",
       "        [0.10555556, 0.51282051, 0.43589744],\n",
       "        [0.04761905, 0.25641026, 0.28205128],\n",
       "        [0.05      , 0.1025641 , 0.28205128],\n",
       "        [0.36666667, 0.62820513, 0.17948718],\n",
       "        [0.4       , 0.85897436, 0.51282051],\n",
       "        [0.18333333, 0.55128205, 0.38461538],\n",
       "        [0.05      , 0.55128205, 0.87179487],\n",
       "        [0.08571429, 0.65384615, 0.61538462],\n",
       "        [0.07222222, 0.16666667, 0.30769231],\n",
       "        [0.00333333, 0.06410256, 0.46153846],\n",
       "        [0.04814815, 0.47435897, 0.56410256],\n",
       "        [0.025     , 0.47435897, 1.12820513],\n",
       "        [0.31666667, 0.37179487, 0.17948718],\n",
       "        [0.175     , 0.34615385, 0.25641026],\n",
       "        [0.10555556, 0.43589744, 0.38461538],\n",
       "        [0.09444444, 0.46153846, 0.28205128],\n",
       "        [0.1       , 0.52564103, 0.56410256],\n",
       "        [0.08095238, 0.57692308, 0.51282051],\n",
       "        [0.05238095, 0.37179487, 0.41025641],\n",
       "        [0.02222222, 0.44871795, 0.84615385],\n",
       "        [0.5       , 1.03846154, 0.35897436],\n",
       "        [0.10666667, 0.44871795, 0.15384615],\n",
       "        [0.13333333, 0.33333333, 0.41025641],\n",
       "        [0.0375    , 0.06410256, 0.28205128],\n",
       "        [0.12666667, 0.29487179, 0.28205128],\n",
       "        [0.2       , 0.97435897, 0.48717949]]))"
      ]
     },
     "execution_count": 83,
     "metadata": {},
     "output_type": "execute_result"
    }
   ],
   "source": [
    "X_test = n1.transform(dfX_test.to_numpy())\n",
    "dfX_test, X_test"
   ]
  },
  {
   "cell_type": "code",
   "execution_count": 84,
   "id": "b594222d",
   "metadata": {},
   "outputs": [
    {
     "data": {
      "text/plain": [
       "array([0, 1, 1, 0, 0, 1, 0, 0, 0, 1, 1, 0, 0, 0, 1, 0, 0, 1, 0, 0, 1, 0,\n",
       "       0, 1, 1, 0, 0, 1, 0, 0, 1])"
      ]
     },
     "execution_count": 84,
     "metadata": {},
     "output_type": "execute_result"
    }
   ],
   "source": [
    "knn.predict(X_test)"
   ]
  },
  {
   "cell_type": "code",
   "execution_count": 85,
   "id": "79895746",
   "metadata": {},
   "outputs": [
    {
     "data": {
      "text/plain": [
       "array([1, 1, 0, 1, 0, 0, 0, 0, 1, 1, 1, 1, 0, 1, 0, 1, 1, 0, 1, 0, 1, 1,\n",
       "       0, 0, 1, 1, 0, 1, 1, 0, 0])"
      ]
     },
     "execution_count": 85,
     "metadata": {},
     "output_type": "execute_result"
    }
   ],
   "source": [
    "y_test"
   ]
  },
  {
   "cell_type": "code",
   "execution_count": 86,
   "id": "829dce32",
   "metadata": {},
   "outputs": [
    {
     "data": {
      "text/plain": [
       "0.45161290322580644"
      ]
     },
     "execution_count": 86,
     "metadata": {},
     "output_type": "execute_result"
    }
   ],
   "source": [
    "knn.score(X_test,y_test)"
   ]
  },
  {
   "cell_type": "code",
   "execution_count": 87,
   "id": "09ffe2a2",
   "metadata": {},
   "outputs": [
    {
     "data": {
      "text/plain": [
       "1.0"
      ]
     },
     "execution_count": 87,
     "metadata": {},
     "output_type": "execute_result"
    }
   ],
   "source": [
    "knn.score(X_train,y_train)"
   ]
  },
  {
   "cell_type": "markdown",
   "id": "808baa67",
   "metadata": {},
   "source": [
    "# Task 2a"
   ]
  },
  {
   "cell_type": "code",
   "execution_count": 88,
   "id": "f548861d",
   "metadata": {},
   "outputs": [],
   "source": [
    "k = 1         \n",
    "\n",
    "value_of_k = []    \n",
    "train = []\n",
    "test = []\n",
    "\n",
    "\n",
    "while k <= 91:    #while loop to to get the accuracy values \n",
    "    knn = KNeighborsClassifier(n_neighbors = k)\n",
    "    knn = knn.fit(X_train, y_train)\n",
    "    X_test = n1.transform(dfX_test.to_numpy())\n",
    "    y_test = le.transform(sy_test.to_numpy())\n",
    "    train.append(knn.score(X_train, y_train))\n",
    "    test.append(knn.score(X_test, y_test))\n",
    "    value_of_k.append(k)\n",
    "    k = k+1"
   ]
  },
  {
   "cell_type": "code",
   "execution_count": 89,
   "id": "0fba6afb",
   "metadata": {},
   "outputs": [
    {
     "data": {
      "text/plain": [
       "<matplotlib.legend.Legend at 0x7f8154199970>"
      ]
     },
     "execution_count": 89,
     "metadata": {},
     "output_type": "execute_result"
    },
    {
     "data": {
      "image/png": "[encoded data removed]",
      "text/plain": [
       "<Figure size 432x288 with 1 Axes>"
      ]
     },
     "metadata": {
      "needs_background": "light"
     },
     "output_type": "display_data"
    }
   ],
   "source": [
    "fig, ax = plt.subplots()   #plot for Test vs Train Model Accuracy using MinMaxScaler\n",
    "\n",
    "k = np.array(value_of_k)\n",
    "train = np.array(train)\n",
    "test = np.array(test)\n",
    "\n",
    "plt.plot(k, train, 'b', label='Train')\n",
    "plt.plot(k, test, 'g', label='Test')\n",
    "\n",
    "plt.title('Comparision between K-values for Test vs Train Model Accuracy (MinMaxScaler)')\n",
    "\n",
    "plt.xlabel('K-value')\n",
    "plt.ylabel('Test vs Train Model Accuracy')\n",
    "plt.legend()\n"
   ]
  },
  {
   "cell_type": "markdown",
   "id": "eea467bc",
   "metadata": {},
   "source": [
    "# Task 2b"
   ]
  },
  {
   "cell_type": "code",
   "execution_count": 90,
   "id": "a1a8ad9c",
   "metadata": {},
   "outputs": [],
   "source": [
    "n3 = preprocessing.StandardScaler() \n",
    "n3 = n3.fit(X_train)\n",
    "X_standard_train = n3.transform (X_train)"
   ]
  },
  {
   "cell_type": "code",
   "execution_count": 91,
   "id": "16fb2f02",
   "metadata": {},
   "outputs": [],
   "source": [
    "standard_k = 1\n",
    "\n",
    "value_of_k1 = []\n",
    "train1 = []\n",
    "test1 = []\n",
    "\n",
    "\n",
    "while standard_k <= 91:     #while loop to to get the accuracy values \n",
    "    knn = KNeighborsClassifier(n_neighbors = standard_k)\n",
    "    knn = knn.fit(X_standard_train, y_train)\n",
    "    X_test = n1.transform(dfX_test.to_numpy())\n",
    "    y_test = le.transform(sy_test.to_numpy())\n",
    "    train1.append(knn.score(X_standard_train, y_train))\n",
    "    test1.append(knn.score(X_test, y_test))\n",
    "    value_of_k1.append(standard_k)\n",
    "    standard_k = standard_k+1"
   ]
  },
  {
   "cell_type": "code",
   "execution_count": 92,
   "id": "47aba80e",
   "metadata": {},
   "outputs": [
    {
     "data": {
      "text/plain": [
       "<matplotlib.legend.Legend at 0x7f81541b24f0>"
      ]
     },
     "execution_count": 92,
     "metadata": {},
     "output_type": "execute_result"
    },
    {
     "data": {
      "image/png": "[encoded data removed]",
      "text/plain": [
       "<Figure size 432x288 with 1 Axes>"
      ]
     },
     "metadata": {
      "needs_background": "light"
     },
     "output_type": "display_data"
    }
   ],
   "source": [
    "fig, ax = plt.subplots() #plot for Test vs Train Model Accuracy using StandardScaler\n",
    "\n",
    "standard_k = np.array(value_of_k1)\n",
    "train = np.array(train1)\n",
    "test = np.array(test1)\n",
    "\n",
    "plt.plot(standard_k, train1, 'b', label='Train')\n",
    "plt.plot(standard_k, test1, 'g', label='Test')\n",
    "\n",
    "plt.title('Comparision between K-values for Test vs Train Model Accuracy (StandardScaler)')\n",
    "\n",
    "plt.xlabel('K-value')\n",
    "plt.ylabel('Test vs Train Model Accuracy')\n",
    "plt.legend()"
   ]
  },
  {
   "cell_type": "markdown",
   "id": "8c2870ea",
   "metadata": {},
   "source": [
    "# Task 3a"
   ]
  },
  {
   "cell_type": "code",
   "execution_count": 94,
   "id": "092742d7",
   "metadata": {},
   "outputs": [
    {
     "name": "stdout",
     "output_type": "stream",
     "text": [
      "0.6153846153846154 , 0.3225806451612903\n"
     ]
    }
   ],
   "source": [
    "knn = KNeighborsClassifier(n_neighbors=12) #finding the accuracies for test and train at k value of 16\n",
    "knn.fit(X_train, y_train)\n",
    "y_test = le.transform(sy_test.to_numpy())\n",
    "X_test = n1.transform(dfX_test.to_numpy())\n",
    "print(knn.score(X_train,y_train),',',knn.score(X_test,y_test))"
   ]
  },
  {
   "cell_type": "markdown",
   "id": "b5404b04",
   "metadata": {},
   "source": [
    "# Task 3b"
   ]
  },
  {
   "cell_type": "code",
   "execution_count": 25,
   "id": "0ae34887",
   "metadata": {},
   "outputs": [
    {
     "data": {
      "text/plain": [
       "<sklearn.metrics._plot.confusion_matrix.ConfusionMatrixDisplay at 0x7f81204220d0>"
      ]
     },
     "execution_count": 25,
     "metadata": {},
     "output_type": "execute_result"
    },
    {
     "data": {
      "image/png": "[encoded data removed]",
      "text/plain": [
       "<Figure size 432x288 with 2 Axes>"
      ]
     },
     "metadata": {
      "needs_background": "light"
     },
     "output_type": "display_data"
    }
   ],
   "source": [
    "from sklearn.metrics import confusion_matrix #creation of confusion matrix\n",
    "from sklearn.metrics import plot_confusion_matrix\n",
    "knn = KNeighborsClassifier(n_neighbors=16)   #k value of 16 as chosen previously\n",
    "knn.fit(X_train, y_train)\n",
    "y_pred = knn.predict(X_test)\n",
    "cm = confusion_matrix(y_test, y_pred)\n",
    "plot_confusion_matrix(knn, X_test, y_test)"
   ]
  },
  {
   "cell_type": "markdown",
   "id": "5b537c86",
   "metadata": {},
   "source": [
    "# Task 4"
   ]
  },
  {
   "cell_type": "code",
   "execution_count": 26,
   "id": "3543e308",
   "metadata": {},
   "outputs": [
    {
     "data": {
      "text/plain": [
       "array([[0.15833333, 0.4691358 , 0.48717949]])"
      ]
     },
     "execution_count": 26,
     "metadata": {},
     "output_type": "execute_result"
    }
   ],
   "source": [
    "ManUnited = np.array([[5.75,78,37]]) #data in array is soccer stats for Man United in 2010/11 season\n",
    "X_ManUnited = n1.transform(ManUnited)\n",
    "X_ManUnited"
   ]
  },
  {
   "cell_type": "code",
   "execution_count": 27,
   "id": "861af9bc",
   "metadata": {},
   "outputs": [
    {
     "data": {
      "text/plain": [
       "array([0])"
      ]
     },
     "execution_count": 27,
     "metadata": {},
     "output_type": "execute_result"
    }
   ],
   "source": [
    "knn.predict(X_ManUnited)"
   ]
  },
  {
   "cell_type": "code",
   "execution_count": 28,
   "id": "265b0eb7",
   "metadata": {},
   "outputs": [
    {
     "data": {
      "text/plain": [
       "array(['Barca'], dtype=object)"
      ]
     },
     "execution_count": 28,
     "metadata": {},
     "output_type": "execute_result"
    }
   ],
   "source": [
    "le.inverse_transform(knn.predict(X_ManUnited))"
   ]
  },
  {
   "cell_type": "code",
   "execution_count": null,
   "id": "5a61e11a",
   "metadata": {},
   "outputs": [],
   "source": []
  }
 ],
 "metadata": {
  "kernelspec": {
   "display_name": "Python 3",
   "language": "python",
   "name": "python3"
  },
  "language_info": {
   "codemirror_mode": {
    "name": "ipython",
    "version": 3
   },
   "file_extension": ".py",
   "mimetype": "text/x-python",
   "name": "python",
   "nbconvert_exporter": "python",
   "pygments_lexer": "ipython3",
   "version": "3.8.8"
  }
 },
 "nbformat": 4,
 "nbformat_minor": 5
}
